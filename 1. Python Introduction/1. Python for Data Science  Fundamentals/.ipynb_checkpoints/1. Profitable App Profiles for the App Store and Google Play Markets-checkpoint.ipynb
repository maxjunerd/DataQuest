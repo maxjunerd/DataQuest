{
 "cells": [
  {
   "cell_type": "markdown",
   "metadata": {},
   "source": [
    "# Analyze Apps in App Store and Google Play"
   ]
  },
  {
   "cell_type": "markdown",
   "metadata": {},
   "source": [
    "Our company wants to launch a new app which uses in-app ads to make profits. It means more people use the app more profit to the company which means it should be free to download. The app will target to English speaking audiences. In this project, we are going to analyst apps in App Store and Google Play to determine which type of app is the best for in-app ads which can be downloaded for free.\n",
    "\n",
    "There are two datasets in this project which are [App Store](https://www.kaggle.com/ramamet4/app-store-apple-data-set-10k-apps) and [Google Play](https://www.kaggle.com/lava18/google-play-store-apps). App Store dataset can be downloaded directly from [here](https://dq-content.s3.amazonaws.com/350/AppleStore.csv). Google Play dataset can be downloaded directly from [here](https://dq-content.s3.amazonaws.com/350/googleplaystore.csv)."
   ]
  },
  {
   "cell_type": "markdown",
   "metadata": {},
   "source": [
    "## Opening dataset"
   ]
  },
  {
   "cell_type": "code",
   "execution_count": 36,
   "metadata": {},
   "outputs": [],
   "source": [
    "from csv import reader\n",
    "\n",
    "# Read App Store Dataset\n",
    "appstore_opened = open('Applestore.csv', encoding='utf-8')\n",
    "appstore_read = reader(appstore_opened)\n",
    "appstore = list(appstore_read)\n",
    "appstore_header = appstore[0]\n",
    "appstore = appstore[1:]\n",
    "\n",
    "# Read Google Play Dataset\n",
    "googleplay_opened = open('googleplaystore.csv', encoding='utf-8')\n",
    "googleplay_read = reader(googleplay_opened)\n",
    "googleplay = list(googleplay_read)\n",
    "googleplay_header = googleplay[0]\n",
    "googleplay = googleplay[1:]"
   ]
  },
  {
   "cell_type": "code",
   "execution_count": 37,
   "metadata": {},
   "outputs": [],
   "source": [
    "# Create a function to explore dataset easily\n",
    "def explore_data(dataset, start, end, rows_and_columns=False):\n",
    "    dataset_slice = dataset[start:end]\n",
    "    for row in dataset_slice:\n",
    "        print(row)\n",
    "        print('\\n')\n",
    "        \n",
    "    if rows_and_columns:\n",
    "        print('Number of rows:', len(dataset_slice))\n",
    "        print('Number of columns:', len(dataset_slice[0]))"
   ]
  },
  {
   "cell_type": "code",
   "execution_count": 38,
   "metadata": {},
   "outputs": [
    {
     "name": "stdout",
     "output_type": "stream",
     "text": [
      "Number of rows in App Store dataset: 7197\n",
      "Number of columns in App Store dataset: 16\n",
      "\n",
      "\n",
      "Number of rows in Google Play dataset: 10841\n",
      "Number of columns in Google Play dataset: 13\n"
     ]
    }
   ],
   "source": [
    "print('Number of rows in App Store dataset:', len(appstore))\n",
    "print('Number of columns in App Store dataset:', len(appstore[0]))\n",
    "print('\\n')\n",
    "print('Number of rows in Google Play dataset:', len(googleplay))\n",
    "print('Number of columns in Google Play dataset:', len(googleplay[0]))"
   ]
  },
  {
   "cell_type": "code",
   "execution_count": 39,
   "metadata": {},
   "outputs": [
    {
     "name": "stdout",
     "output_type": "stream",
     "text": [
      "Columns' names in App Store dataset\n",
      "\n"
     ]
    },
    {
     "data": {
      "text/plain": [
       "['id',\n",
       " 'track_name',\n",
       " 'size_bytes',\n",
       " 'currency',\n",
       " 'price',\n",
       " 'rating_count_tot',\n",
       " 'rating_count_ver',\n",
       " 'user_rating',\n",
       " 'user_rating_ver',\n",
       " 'ver',\n",
       " 'cont_rating',\n",
       " 'prime_genre',\n",
       " 'sup_devices.num',\n",
       " 'ipadSc_urls.num',\n",
       " 'lang.num',\n",
       " 'vpp_lic']"
      ]
     },
     "execution_count": 39,
     "metadata": {},
     "output_type": "execute_result"
    }
   ],
   "source": [
    "print('Columns\\' names in App Store dataset\\n')\n",
    "appstore_header"
   ]
  },
  {
   "cell_type": "markdown",
   "metadata": {},
   "source": [
    "The columns in the App Store dataset that would be useful for this analysis are price, rating_count_tot and prime_genre."
   ]
  },
  {
   "cell_type": "code",
   "execution_count": 40,
   "metadata": {},
   "outputs": [
    {
     "name": "stdout",
     "output_type": "stream",
     "text": [
      "Columns' names in Google Play dataset\n",
      "\n"
     ]
    },
    {
     "data": {
      "text/plain": [
       "['App',\n",
       " 'Category',\n",
       " 'Rating',\n",
       " 'Reviews',\n",
       " 'Size',\n",
       " 'Installs',\n",
       " 'Type',\n",
       " 'Price',\n",
       " 'Content Rating',\n",
       " 'Genres',\n",
       " 'Last Updated',\n",
       " 'Current Ver',\n",
       " 'Android Ver']"
      ]
     },
     "execution_count": 40,
     "metadata": {},
     "output_type": "execute_result"
    }
   ],
   "source": [
    "print('Columns\\' names in Google Play dataset\\n')\n",
    "googleplay_header"
   ]
  },
  {
   "cell_type": "markdown",
   "metadata": {},
   "source": [
    "The columns in the Google Play dataset that would be useful for this analysis are Category, Type, Price, Genres."
   ]
  },
  {
   "cell_type": "markdown",
   "metadata": {},
   "source": [
    "## Cleaning Data\n",
    "\n",
    "### Deleting Wrong Data\n",
    "\n",
    "From this [discussuion section](https://www.kaggle.com/lava18/google-play-store-apps/discussion/66015), there is an error in row 10,472 in the Google Play Dataset."
   ]
  },
  {
   "cell_type": "code",
   "execution_count": 41,
   "metadata": {},
   "outputs": [
    {
     "name": "stdout",
     "output_type": "stream",
     "text": [
      "['App', 'Category', 'Rating', 'Reviews', 'Size', 'Installs', 'Type', 'Price', 'Content Rating', 'Genres', 'Last Updated', 'Current Ver', 'Android Ver']\n",
      "\n",
      "\n",
      "['Life Made WI-Fi Touchscreen Photo Frame', '1.9', '19', '3.0M', '1,000+', 'Free', '0', 'Everyone', '', 'February 11, 2018', '1.0.19', '4.0 and up']\n",
      "\n",
      "\n",
      "['Photo Editor & Candy Camera & Grid & ScrapBook', 'ART_AND_DESIGN', '4.1', '159', '19M', '10,000+', 'Free', '0', 'Everyone', 'Art & Design', 'January 7, 2018', '1.0.0', '4.0.3 and up']\n"
     ]
    }
   ],
   "source": [
    "print(googleplay_header)\n",
    "print('\\n')\n",
    "print(googleplay[10472]) # incorrect row\n",
    "print('\\n')\n",
    "print(googleplay[0]) # correct row"
   ]
  },
  {
   "cell_type": "markdown",
   "metadata": {},
   "source": [
    "There is no Category column for row number 10472 and rating is 19 which is clearly off. The maximum rating is only 5. We'll delete this row."
   ]
  },
  {
   "cell_type": "code",
   "execution_count": 42,
   "metadata": {},
   "outputs": [
    {
     "name": "stdout",
     "output_type": "stream",
     "text": [
      "10841\n",
      "10840\n"
     ]
    }
   ],
   "source": [
    "print(len(googleplay))\n",
    "del googleplay[10472]\n",
    "print(len(googleplay))"
   ]
  },
  {
   "cell_type": "markdown",
   "metadata": {},
   "source": [
    "### Removing duplicate Apps"
   ]
  },
  {
   "cell_type": "code",
   "execution_count": 43,
   "metadata": {},
   "outputs": [
    {
     "name": "stdout",
     "output_type": "stream",
     "text": [
      "Number of duplicate apps: 0\n"
     ]
    }
   ],
   "source": [
    "# Find duplicate app\n",
    "appstore_duplicate = []\n",
    "appstore_unique = []\n",
    "\n",
    "for row in appstore:\n",
    "    app = row[0]\n",
    "    if app in appstore_unique:\n",
    "        appstore_duplicate.append(app)\n",
    "    else:\n",
    "        appstore_unique.append(app)\n",
    "\n",
    "print('Number of duplicate apps:', len(appstore_duplicate))"
   ]
  },
  {
   "cell_type": "code",
   "execution_count": 44,
   "metadata": {},
   "outputs": [
    {
     "name": "stdout",
     "output_type": "stream",
     "text": [
      "Number of duplicate apps: 1181\n",
      "Example of duplicate apps:  ['Quick PDF Scanner + OCR FREE', 'Box', 'Google My Business', 'ZOOM Cloud Meetings', 'join.me - Simple Meetings', 'Box', 'Zenefits', 'Google Ads', 'Google My Business', 'Slack', 'FreshBooks Classic', 'Insightly CRM', 'QuickBooks Accounting: Invoicing & Expenses', 'HipChat - Chat Built for Teams', 'Xero Accounting Software', 'MailChimp - Email, Marketing Automation', 'Crew - Free Messaging and Scheduling', 'Asana: organize team projects', 'Google Analytics', 'AdWords Express', 'Accounting App - Zoho Books', 'Invoice & Time Tracking - Zoho', 'join.me - Simple Meetings', 'Invoice 2go — Professional Invoices and Estimates', 'SignEasy | Sign and Fill PDF and other Documents', 'Quick PDF Scanner + OCR FREE', 'Genius Scan - PDF Scanner', 'Tiny Scanner - PDF Scanner App', 'Fast Scanner : Free PDF Scan', 'Mobile Doc Scanner (MDScan) Lite', 'TurboScan: scan documents and receipts in PDF', 'Tiny Scanner Pro: PDF Doc Scan', 'Docs To Go™ Free Office Suite', 'OfficeSuite : Free Office + PDF Editor', 'Slack', 'QuickBooks Accounting: Invoicing & Expenses', 'WhatsApp Messenger', 'Messenger – Text and Video Chat for Free', 'imo free video calls and chat', 'Viber Messenger', 'Hangouts', 'WeChat', 'Telegram', 'Who', 'Google Voice', 'Android Messages', 'Firefox Focus: The privacy browser', 'Google Allo', 'Google Chrome: Fast & Secure', 'Firefox Browser fast & private']\n"
     ]
    }
   ],
   "source": [
    "# Find duplicate app\n",
    "googleplay_duplicate = []\n",
    "googleplay_unique = []\n",
    "\n",
    "for row in googleplay:\n",
    "    app = row[0]\n",
    "    if app in googleplay_unique:\n",
    "        googleplay_duplicate.append(app)\n",
    "    else:\n",
    "        googleplay_unique.append(app)\n",
    "\n",
    "print('Number of duplicate apps:', len(googleplay_duplicate)) \n",
    "print('Example of duplicate apps: ', googleplay_duplicate[:50])"
   ]
  },
  {
   "cell_type": "markdown",
   "metadata": {},
   "source": [
    "### Number of duplicate apps\n",
    "- There's no duplicate app in the App Store Dataset.\n",
    "- There're 1,181 duplicate apps in Google Play Dataset.\n",
    "\n",
    "We need to find the criteria for deleting duplicate entries. Let's look at the example of Telegram"
   ]
  },
  {
   "cell_type": "code",
   "execution_count": 45,
   "metadata": {},
   "outputs": [
    {
     "name": "stdout",
     "output_type": "stream",
     "text": [
      "['Telegram', 'COMMUNICATION', '4.4', '3128250', 'Varies with device', '100,000,000+', 'Free', '0', 'Mature 17+', 'Communication', 'July 27, 2018', 'Varies with device', 'Varies with device']\n",
      "['Telegram', 'COMMUNICATION', '4.4', '3128509', 'Varies with device', '100,000,000+', 'Free', '0', 'Mature 17+', 'Communication', 'July 27, 2018', 'Varies with device', 'Varies with device']\n",
      "['Telegram', 'COMMUNICATION', '4.4', '3128611', 'Varies with device', '100,000,000+', 'Free', '0', 'Mature 17+', 'Communication', 'July 27, 2018', 'Varies with device', 'Varies with device']\n"
     ]
    }
   ],
   "source": [
    "for app in googleplay:\n",
    "    if app[0] == 'Telegram':\n",
    "        print(app)"
   ]
  },
  {
   "cell_type": "markdown",
   "metadata": {},
   "source": [
    "In the fourth column tells how many reviews these apps have. This number can be used to tell which row is the most recent one. We'll use this column to determine which row should be removed and which row should not be removed. The higher number of reviews tells us that this row has been retrieved recently."
   ]
  },
  {
   "cell_type": "code",
   "execution_count": 46,
   "metadata": {},
   "outputs": [
    {
     "name": "stdout",
     "output_type": "stream",
     "text": [
      "Number of expected apps in App Store without duplicatation:  7197\n",
      "Number of expected apps in Google Play without duplicatation:  9659\n"
     ]
    }
   ],
   "source": [
    "### Number of apps without duplicate apps\n",
    "print('Number of expected apps in App Store without duplicatation: ', len(appstore)-len(appstore_duplicate))\n",
    "print('Number of expected apps in Google Play without duplicatation: ', len(googleplay)-len(googleplay_duplicate))"
   ]
  },
  {
   "cell_type": "code",
   "execution_count": 47,
   "metadata": {},
   "outputs": [
    {
     "name": "stdout",
     "output_type": "stream",
     "text": [
      "Number of apps in Google Play Dataset without duplication: 9659\n"
     ]
    }
   ],
   "source": [
    "# creating a dictionary to store apps' names as keys and number of the highest reviews as values\n",
    "googleplay_review_max = {}\n",
    "\n",
    "for app in googleplay:\n",
    "    name = app[0]\n",
    "    n_reviews = float(app[3])\n",
    "    if (name in googleplay_review_max) and googleplay_review_max[name] < n_reviews:\n",
    "        googleplay_review_max[name] = n_reviews\n",
    "    elif name not in googleplay_review_max:\n",
    "        googleplay_review_max[name] = n_reviews\n",
    "        \n",
    "print('Number of apps in Google Play Dataset without duplication:', len(googleplay_review_max))"
   ]
  },
  {
   "cell_type": "code",
   "execution_count": 48,
   "metadata": {},
   "outputs": [
    {
     "name": "stdout",
     "output_type": "stream",
     "text": [
      "Number of apps in Google Play Dataset after removing duplications: 9659\n"
     ]
    }
   ],
   "source": [
    "# looping through Google Play Dataset and add rows which match the number of the highest review in googleplay_review_max to googleplay_clean\n",
    "# googleplay_added stores names of the apps that have already added in googleplay_clean\n",
    "googleplay_clean = []\n",
    "googleplay_added = []\n",
    "\n",
    "for row in googleplay:\n",
    "    name = row[0]\n",
    "    n_reviews = float(row[3])\n",
    "    if name not in googleplay_added and n_reviews == googleplay_review_max[name]:\n",
    "        googleplay_clean.append(row)\n",
    "        googleplay_added.append(name)\n",
    "print('Number of apps in Google Play Dataset after removing duplications:', len(googleplay_clean))"
   ]
  },
  {
   "cell_type": "markdown",
   "metadata": {},
   "source": [
    "### Removing non-English Apps\n",
    "The app targets English speaking people. We need to remove apps that use non-English characters. We consider apps' names that have characters in ASCII more than 127 are not apps for English speaking people."
   ]
  },
  {
   "cell_type": "code",
   "execution_count": 49,
   "metadata": {},
   "outputs": [],
   "source": [
    "# a function to determine whether names given as parameters do not contain non-English characters\n",
    "# True if the names given do not contain non-English characters, False otherwise\n",
    "def english_app(texts):\n",
    "    for text in texts:\n",
    "        if ord(text) > 127:\n",
    "            return False\n",
    "    return True"
   ]
  },
  {
   "cell_type": "code",
   "execution_count": 50,
   "metadata": {},
   "outputs": [
    {
     "name": "stdout",
     "output_type": "stream",
     "text": [
      "True\n",
      "False\n",
      "False\n",
      "False\n"
     ]
    }
   ],
   "source": [
    "# Test english_app function\n",
    "print(english_app('Instagram')) # True becuase it does not contain non-English characters\n",
    "print(english_app('爱奇艺PPS -《欢乐颂2》电视剧热播')) # False because it contains non-English characters which are chinese characters\n",
    "print(english_app('Docs To Go™ Free Office Suite')) # False because it contains non-English character which is special character\n",
    "print(english_app('Instachat 😜')) # False because it contains non-English character which is emoji"
   ]
  },
  {
   "cell_type": "markdown",
   "metadata": {},
   "source": [
    "The english_app function return \"False\" which means they're not an app targeting English speaking people even English apps' names that contain some special characters like ™, or 😜. If we use this function, we'll lose some relevant data. We'll find a better solution for this which is the function what return \"False\" only the apps' name contain more than 3 character that falls out of the ASCII range (0-127)."
   ]
  },
  {
   "cell_type": "code",
   "execution_count": 51,
   "metadata": {},
   "outputs": [],
   "source": [
    "def english_app_3(texts):\n",
    "    number = 0\n",
    "    for text in texts:\n",
    "        if ord(text) > 127:\n",
    "            number = number + 1\n",
    "    if number >= 3:\n",
    "        return False\n",
    "    else:\n",
    "        return True"
   ]
  },
  {
   "cell_type": "code",
   "execution_count": 52,
   "metadata": {},
   "outputs": [
    {
     "name": "stdout",
     "output_type": "stream",
     "text": [
      "True\n",
      "False\n",
      "True\n",
      "True\n"
     ]
    }
   ],
   "source": [
    "# Test english_app function\n",
    "print(english_app_3('Instagram')) # True becuase it does not contain non-English characters\n",
    "print(english_app_3('爱奇艺PPS -《欢乐颂2》电视剧热播')) # False because it contains more than 3 chinese characters\n",
    "print(english_app_3('Docs To Go™ Free Office Suite')) # True because it contains only one special character \n",
    "print(english_app_3('Instachat 😜')) # True because it contains only one special character"
   ]
  },
  {
   "cell_type": "code",
   "execution_count": 53,
   "metadata": {},
   "outputs": [
    {
     "name": "stdout",
     "output_type": "stream",
     "text": [
      "Number of removed non-English apps in App Store:  1042\n",
      "Number of English apps in App Store:  6155\n"
     ]
    }
   ],
   "source": [
    "# Looping through appstore and use english_app_3 function to remove apps' names which have more 3 characters that fall out of the ASCII range (0-127)\n",
    "appstore_english = []\n",
    "\n",
    "for app in appstore:\n",
    "    name = app[1]\n",
    "    if english_app_3(name):\n",
    "        appstore_english.append(app)\n",
    "\n",
    "print('Number of removed non-English apps in App Store: ', len(appstore) - len(appstore_english))\n",
    "print('Number of English apps in App Store: ', len(appstore_english))"
   ]
  },
  {
   "cell_type": "code",
   "execution_count": 54,
   "metadata": {},
   "outputs": [
    {
     "name": "stdout",
     "output_type": "stream",
     "text": [
      "Number of removed non-English apps in Google Play:  62\n",
      "Number of English apps in Google Play:  9597\n"
     ]
    }
   ],
   "source": [
    "# Looping through googleplay_clean and use english_app_3 function to remove apps' names which have more 3 characters that fall out of the ASCII range (0-127)\n",
    "googleplay_english = []\n",
    "\n",
    "for app in googleplay_clean:\n",
    "    name = app[0]\n",
    "    if english_app_3(name):\n",
    "        googleplay_english.append(app)\n",
    "\n",
    "print('Number of removed non-English apps in Google Play: ', len(googleplay_clean) - len(googleplay_english))\n",
    "print('Number of English apps in Google Play: ', len(googleplay_english))"
   ]
  },
  {
   "cell_type": "markdown",
   "metadata": {},
   "source": [
    "### Remove Paid Apps"
   ]
  },
  {
   "cell_type": "code",
   "execution_count": 55,
   "metadata": {},
   "outputs": [
    {
     "name": "stdout",
     "output_type": "stream",
     "text": [
      "Number of free apps in App Store: 3203\n",
      "Number of paid apps in App Store: 2952\n"
     ]
    }
   ],
   "source": [
    "appstore_free = []\n",
    "appstore_paid = []\n",
    "\n",
    "for app in appstore_english:\n",
    "    price = float(app[4])\n",
    "    if price == 0:\n",
    "        appstore_free.append(app)\n",
    "    else:\n",
    "        appstore_paid.append(app)\n",
    "        \n",
    "print('Number of free apps in App Store:', len(appstore_free))\n",
    "print('Number of paid apps in App Store:', len(appstore_paid))"
   ]
  },
  {
   "cell_type": "code",
   "execution_count": 56,
   "metadata": {},
   "outputs": [
    {
     "name": "stdout",
     "output_type": "stream",
     "text": [
      "Number of free apps in Google Play: 8848\n",
      "Number of paid apps in Google Play: 749\n"
     ]
    }
   ],
   "source": [
    "googleplay_free = []\n",
    "googleplay_paid = []\n",
    "\n",
    "for app in googleplay_english:\n",
    "    price = app[7].replace('$', '')\n",
    "    price = float(price)\n",
    "    if price == 0:\n",
    "        googleplay_free.append(app)\n",
    "    else:\n",
    "        googleplay_paid.append(app)\n",
    "        \n",
    "print('Number of free apps in Google Play:', len(googleplay_free))\n",
    "print('Number of paid apps in Google Play:', len(googleplay_paid))"
   ]
  },
  {
   "cell_type": "markdown",
   "metadata": {},
   "source": [
    "## Data Analysis\n",
    "\n",
    "Our company wants to launch an app in both the Google Play and the App Store. The app will target English speaking people and it will be free. The app makes profits by in-app purchases. We'll need to analyze both datasets to determine what kind of apps are popular among android and ios users. \n",
    "\n",
    "### Common Genres in the Market\n",
    "\n",
    "We'll are going analyze what genres are the most common in the App Store and Google Play market."
   ]
  },
  {
   "cell_type": "code",
   "execution_count": 57,
   "metadata": {},
   "outputs": [],
   "source": [
    "# freq_table function which returns the frequency table as percentages\n",
    "def freq_table(dataset, index):\n",
    "    table = {}\n",
    "    for row in dataset:\n",
    "        name = row[index]\n",
    "        if name in table:\n",
    "            table[name] += 1\n",
    "        else:\n",
    "            table[name] = 1\n",
    "    for key, value in table.items():\n",
    "        table[key] = round(float(value)/len(dataset)*100)\n",
    "    return table\n",
    "\n",
    "# display_table function which orders frequencies descendingly and prints them \n",
    "def display_table(dataset, index):\n",
    "    table = freq_table(dataset, index)\n",
    "    freq_order = []\n",
    "    for key in table:\n",
    "        freq_order.append((table[key], key))\n",
    "    sorted_table = sorted(freq_order, reverse=True)\n",
    "    for value in sorted_table:\n",
    "        print(str(value[0])+'%', ':', value[1])"
   ]
  },
  {
   "cell_type": "code",
   "execution_count": 58,
   "metadata": {},
   "outputs": [
    {
     "name": "stdout",
     "output_type": "stream",
     "text": [
      "58% : Games\n",
      "8% : Entertainment\n",
      "5% : Photo & Video\n",
      "4% : Education\n",
      "3% : Social Networking\n",
      "3% : Shopping\n",
      "2% : Utilities\n",
      "2% : Sports\n",
      "2% : Productivity\n",
      "2% : Music\n",
      "2% : Lifestyle\n",
      "2% : Health & Fitness\n",
      "1% : Weather\n",
      "1% : Travel\n",
      "1% : Reference\n",
      "1% : News\n",
      "1% : Food & Drink\n",
      "1% : Finance\n",
      "1% : Business\n",
      "0% : Navigation\n",
      "0% : Medical\n",
      "0% : Catalogs\n",
      "0% : Book\n"
     ]
    }
   ],
   "source": [
    "# App Store Common Genre Frequency Table\n",
    "display_table(appstore_free, 11)"
   ]
  },
  {
   "cell_type": "code",
   "execution_count": 59,
   "metadata": {},
   "outputs": [
    {
     "name": "stdout",
     "output_type": "stream",
     "text": [
      "19% : FAMILY\n",
      "10% : GAME\n",
      "8% : TOOLS\n",
      "5% : BUSINESS\n",
      "4% : PRODUCTIVITY\n",
      "4% : MEDICAL\n",
      "4% : LIFESTYLE\n",
      "4% : FINANCE\n",
      "3% : SPORTS\n",
      "3% : SOCIAL\n",
      "3% : PHOTOGRAPHY\n",
      "3% : PERSONALIZATION\n",
      "3% : NEWS_AND_MAGAZINES\n",
      "3% : HEALTH_AND_FITNESS\n",
      "3% : COMMUNICATION\n",
      "2% : VIDEO_PLAYERS\n",
      "2% : TRAVEL_AND_LOCAL\n",
      "2% : SHOPPING\n",
      "2% : DATING\n",
      "2% : BOOKS_AND_REFERENCE\n",
      "1% : WEATHER\n",
      "1% : PARENTING\n",
      "1% : MAPS_AND_NAVIGATION\n",
      "1% : LIBRARIES_AND_DEMO\n",
      "1% : HOUSE_AND_HOME\n",
      "1% : FOOD_AND_DRINK\n",
      "1% : EVENTS\n",
      "1% : ENTERTAINMENT\n",
      "1% : EDUCATION\n",
      "1% : COMICS\n",
      "1% : BEAUTY\n",
      "1% : AUTO_AND_VEHICLES\n",
      "1% : ART_AND_DESIGN\n",
      "\n",
      "\n",
      "8% : Tools\n",
      "6% : Entertainment\n",
      "5% : Education\n",
      "5% : Business\n",
      "4% : Productivity\n",
      "4% : Medical\n",
      "4% : Lifestyle\n",
      "4% : Finance\n",
      "3% : Sports\n",
      "3% : Social\n",
      "3% : Photography\n",
      "3% : Personalization\n",
      "3% : News & Magazines\n",
      "3% : Health & Fitness\n",
      "3% : Communication\n",
      "3% : Action\n",
      "2% : Video Players & Editors\n",
      "2% : Travel & Local\n",
      "2% : Simulation\n",
      "2% : Shopping\n",
      "2% : Dating\n",
      "2% : Casual\n",
      "2% : Books & Reference\n",
      "2% : Arcade\n",
      "1% : Weather\n",
      "1% : Strategy\n",
      "1% : Role Playing\n",
      "1% : Racing\n",
      "1% : Puzzle\n",
      "1% : Maps & Navigation\n",
      "1% : Libraries & Demo\n",
      "1% : House & Home\n",
      "1% : Food & Drink\n",
      "1% : Events\n",
      "1% : Comics\n",
      "1% : Beauty\n",
      "1% : Auto & Vehicles\n",
      "1% : Art & Design\n",
      "1% : Adventure\n",
      "0% : Word\n",
      "0% : Video Players & Editors;Music & Video\n",
      "0% : Video Players & Editors;Creativity\n",
      "0% : Trivia;Education\n",
      "0% : Trivia\n",
      "0% : Travel & Local;Action & Adventure\n",
      "0% : Tools;Education\n",
      "0% : Strategy;Education\n",
      "0% : Strategy;Creativity\n",
      "0% : Strategy;Action & Adventure\n",
      "0% : Sports;Action & Adventure\n",
      "0% : Simulation;Pretend Play\n",
      "0% : Simulation;Education\n",
      "0% : Simulation;Action & Adventure\n",
      "0% : Role Playing;Pretend Play\n",
      "0% : Role Playing;Brain Games\n",
      "0% : Role Playing;Action & Adventure\n",
      "0% : Racing;Pretend Play\n",
      "0% : Racing;Action & Adventure\n",
      "0% : Puzzle;Education\n",
      "0% : Puzzle;Creativity\n",
      "0% : Puzzle;Brain Games\n",
      "0% : Puzzle;Action & Adventure\n",
      "0% : Parenting;Music & Video\n",
      "0% : Parenting;Education\n",
      "0% : Parenting;Brain Games\n",
      "0% : Parenting\n",
      "0% : Music;Music & Video\n",
      "0% : Music & Audio;Music & Video\n",
      "0% : Music\n",
      "0% : Lifestyle;Pretend Play\n",
      "0% : Lifestyle;Education\n",
      "0% : Health & Fitness;Education\n",
      "0% : Health & Fitness;Action & Adventure\n",
      "0% : Entertainment;Pretend Play\n",
      "0% : Entertainment;Music & Video\n",
      "0% : Entertainment;Education\n",
      "0% : Entertainment;Creativity\n",
      "0% : Entertainment;Brain Games\n",
      "0% : Entertainment;Action & Adventure\n",
      "0% : Educational;Pretend Play\n",
      "0% : Educational;Education\n",
      "0% : Educational;Creativity\n",
      "0% : Educational;Brain Games\n",
      "0% : Educational;Action & Adventure\n",
      "0% : Educational\n",
      "0% : Education;Pretend Play\n",
      "0% : Education;Music & Video\n",
      "0% : Education;Education\n",
      "0% : Education;Creativity\n",
      "0% : Education;Brain Games\n",
      "0% : Education;Action & Adventure\n",
      "0% : Communication;Creativity\n",
      "0% : Comics;Creativity\n",
      "0% : Casual;Pretend Play\n",
      "0% : Casual;Music & Video\n",
      "0% : Casual;Education\n",
      "0% : Casual;Creativity\n",
      "0% : Casual;Brain Games\n",
      "0% : Casual;Action & Adventure\n",
      "0% : Casino\n",
      "0% : Card;Action & Adventure\n",
      "0% : Card\n",
      "0% : Books & Reference;Education\n",
      "0% : Board;Brain Games\n",
      "0% : Board;Action & Adventure\n",
      "0% : Board\n",
      "0% : Art & Design;Pretend Play\n",
      "0% : Art & Design;Creativity\n",
      "0% : Art & Design;Action & Adventure\n",
      "0% : Arcade;Pretend Play\n",
      "0% : Arcade;Action & Adventure\n",
      "0% : Adventure;Education\n",
      "0% : Adventure;Action & Adventure\n",
      "0% : Action;Action & Adventure\n"
     ]
    }
   ],
   "source": [
    "# Google Play Common Category Frequency Table\n",
    "display_table(googleplay_free, 1)\n",
    "print('\\n')\n",
    "# Google Play Common Genre Frequency Table\n",
    "display_table(googleplay_free, 9)"
   ]
  },
  {
   "cell_type": "markdown",
   "metadata": {},
   "source": [
    "The first step in our data analysis is to analyze common genres in the App Store and Google Play.  There is only one variable for a category in the App Store but there're two variables in the Google Play dataset which depict types of apps which are category or genre. The genre variable is more granular compared to the category variable. We don't need that much detail in the genre variable. Then we use the category variable to analyze in this case.\n",
    "\n",
    "### App Store\n",
    "Games are the most common genre for free English apps in the App Store which accounts for 58% followed by entertainment 8% and photo & video 5%. If we categorize categories into two types which are fun and practical, we can see that there are 71% in fun category (58% games, 8% entertainment, 3% social networking and 2% music) and 29% practical category (5% photo & video, 4% education, 3% shopping, 2% utilities, 2% sports, 2% productivity, 2% lifestyle, 2% health & fitness, 1% weather, 1% travel, 1% reference, 1% news, 1% food & drink, 1% finance, 1% business, 0% navigation, 0% medical, 0% catalogs, 0% book). Fun category is the dominant category in the App Store for free English apps.\n",
    "\n",
    "### Google Play\n",
    "Family is the most common category in Google Play which accounts for 19% followed by game 10% and tools 8%. Family is a category for games for kids which we can add both family and game categories which account for 29%. If we categorize categories into fun and practical categories, we can see that there are 29% in fun category (19% family and 10% fame) and 71% practical category (8% tools, 5% business, 4% productiviry, 4% medical, 4% lifestyle, 4% finance, 3% sports, 3% social, 3% photography, 3% personalization, 3% news and magazine, 3% health and fitness, 3% communication, 2% video platers, 2% travel and local, 2% shopping, 2% dating, 2% books and reference, 1% weather, 1% parenting, 1% maps and navigation, 1% libraries and demo, 1% house and home, 1% food and drink, 1% events, 1% entertainment, 1% education, 1% comics, 1% beauty, 1% auto and vehicles and 1% art and design). Practical category is the dominant category in the Google Play for free English apps."
   ]
  },
  {
   "cell_type": "markdown",
   "metadata": {},
   "source": [
    "### Most Popular Apps\n",
    "\n",
    "We're going to explore what kind of apps are the most popular by calculating the average number of install for each app genre. For Google Play, we're going to use Installs column but for Appstore, there is no information regarding the number of installs. We're going to use rating_count_tot column which is the number of user ratings as a proxy for the number of installs."
   ]
  },
  {
   "cell_type": "code",
   "execution_count": 60,
   "metadata": {},
   "outputs": [
    {
     "name": "stdout",
     "output_type": "stream",
     "text": [
      "86090 : Navigation\n",
      "79350 : Reference\n",
      "71548 : Social Networking\n",
      "57327 : Music\n",
      "52280 : Weather\n",
      "46385 : Book\n",
      "33334 : Food & Drink\n",
      "32367 : Finance\n",
      "28442 : Photo & Video\n",
      "28244 : Travel\n",
      "27231 : Shopping\n",
      "23298 : Health & Fitness\n",
      "23009 : Sports\n",
      "22886 : Games\n",
      "21248 : News\n",
      "21028 : Productivity\n",
      "19156 : Utilities\n",
      "16815 : Lifestyle\n",
      "14195 : Entertainment\n",
      "7491 : Business\n",
      "7004 : Education\n",
      "4004 : Catalogs\n",
      "612 : Medical\n"
     ]
    }
   ],
   "source": [
    "appstore_unique_genre = freq_table(appstore_free, 11)\n",
    "average_rating = {}\n",
    "\n",
    "# Calculate the average of user ratings for each genre\n",
    "for genre in appstore_unique_genre:\n",
    "    total = 0\n",
    "    len_genre = 0\n",
    "    for app in appstore_free:\n",
    "        genre_app = app[11]\n",
    "        if genre_app == genre:\n",
    "            n_rating = float(app[5])\n",
    "            total += n_rating\n",
    "            len_genre += 1\n",
    "    average = round(total / len_genre)\n",
    "    average_rating[genre] = average\n",
    "\n",
    "# Sort the average of user ratings in descending order\n",
    "average_list = []\n",
    "for average in average_rating:\n",
    "    average_list.append((average_rating[average], average))\n",
    "average_list = sorted(average_list, reverse=True)\n",
    "\n",
    "for average in average_list:\n",
    "    print(average[0], ':', average[1])"
   ]
  },
  {
   "cell_type": "markdown",
   "metadata": {},
   "source": [
    "The Navigation genre has the most number of user ratings on average but the number of user ratings in this genre has been heavily influenced by Waze and Google Maps as well as other genres. We need to find a solution to remove outliers that skewed our results and make them seem like they're more popular than they are. We're going to remove apps that have the number of user ratings more than 1.5 IQR."
   ]
  },
  {
   "cell_type": "code",
   "execution_count": 61,
   "metadata": {},
   "outputs": [
    {
     "name": "stdout",
     "output_type": "stream",
     "text": [
      "Waze - GPS Navigation, Maps & Real-time Traffic 345046\n",
      "Google Maps - Navigation & Transit 154911\n",
      "Geocaching® 12811\n",
      "CoPilot GPS – Car Navigation & Offline Maps 3582\n",
      "ImmobilienScout24: Real Estate Search in Germany 187\n",
      "Railway Route Search 5\n"
     ]
    }
   ],
   "source": [
    "for app in appstore_free:\n",
    "    if app[11] == 'Navigation':\n",
    "        print(app[1], app[5])"
   ]
  },
  {
   "cell_type": "code",
   "execution_count": 88,
   "metadata": {},
   "outputs": [
    {
     "data": {
      "text/plain": [
       "9805.5"
      ]
     },
     "execution_count": 88,
     "metadata": {},
     "output_type": "execute_result"
    }
   ],
   "source": [
    "import numpy as np\n",
    "\n",
    "n_ratings = [int(app[5]) for app in appstore_free]\n",
    "\n",
    "appstore_q75, appstore_q25 = np.percentile(n_ratings, [75, 25])\n",
    "appstore_iqr = appstore_q75 - appstore_q25\n",
    "appstore_iqr"
   ]
  },
  {
   "cell_type": "markdown",
   "metadata": {},
   "source": [
    "IQR for the number of user ratings for the Appstore is 9805.5. "
   ]
  },
  {
   "cell_type": "code",
   "execution_count": 63,
   "metadata": {},
   "outputs": [
    {
     "name": "stdout",
     "output_type": "stream",
     "text": [
      "2474 : Business\n",
      "2458 : Shopping\n",
      "2321 : Health & Fitness\n",
      "1917 : Photo & Video\n",
      "1895 : Reference\n",
      "1874 : Music\n",
      "1855 : Food & Drink\n",
      "1769 : Entertainment\n",
      "1709 : Productivity\n",
      "1654 : Social Networking\n",
      "1595 : Lifestyle\n",
      "1507 : Utilities\n",
      "1443 : Education\n",
      "1390 : Games\n",
      "1389 : Finance\n",
      "1258 : Navigation\n",
      "1201 : Travel\n",
      "1183 : Sports\n",
      "1000 : News\n",
      "890 : Catalogs\n",
      "612 : Medical\n",
      "590 : Weather\n",
      "275 : Book\n"
     ]
    }
   ],
   "source": [
    "average_rating_remove_outliers = {}\n",
    "\n",
    "# Calculate the average of user ratings for each genre\n",
    "for genre in appstore_unique_genre:\n",
    "    total = 0\n",
    "    len_genre = 0\n",
    "    for app in appstore_free:\n",
    "        genre_app = app[11]\n",
    "        if genre_app == genre:\n",
    "            n_rating = float(app[5])\n",
    "            if n_rating >= 9805.5:\n",
    "                continue\n",
    "            total += n_rating\n",
    "            len_genre += 1\n",
    "    average = round(total / len_genre)\n",
    "    average_rating_remove_outliers[genre] = average\n",
    "\n",
    "# Sort the average of user ratings in descending order\n",
    "average_list_remove_outliers = []\n",
    "for average in average_rating_remove_outliers:\n",
    "    average_list_remove_outliers.append((average_rating_remove_outliers[average], average))\n",
    "average_list_remove_outliers = sorted(average_list_remove_outliers, reverse=True)\n",
    "\n",
    "for average in average_list_remove_outliers:\n",
    "    print(average[0], ':', average[1])"
   ]
  },
  {
   "cell_type": "markdown",
   "metadata": {},
   "source": [
    "The business genre has the most number of user ratings followed by shopping, health & fitness, photo & video, reference, etc."
   ]
  },
  {
   "cell_type": "markdown",
   "metadata": {},
   "source": [
    "### The Most Popular Apps by Genre on Google Play\n",
    "\n",
    "In Google Play Dataset, there is a column containing the number of installs but they're not precise. For example, 100,000+ installs might be 100,000 or 200,000 or 500,000 and so on. We're gonna assume that the number of installs is exactly as they are because we don't need precision in our analysis."
   ]
  },
  {
   "cell_type": "code",
   "execution_count": 64,
   "metadata": {},
   "outputs": [
    {
     "name": "stdout",
     "output_type": "stream",
     "text": [
      "16% : 1,000,000+\n",
      "12% : 100,000+\n",
      "11% : 10,000,000+\n",
      "10% : 10,000+\n",
      "8% : 1,000+\n",
      "7% : 5,000,000+\n",
      "7% : 100+\n",
      "6% : 500,000+\n",
      "5% : 50,000+\n",
      "4% : 5,000+\n",
      "4% : 10+\n",
      "3% : 500+\n",
      "2% : 50,000,000+\n",
      "2% : 50+\n",
      "2% : 100,000,000+\n",
      "1% : 5+\n",
      "1% : 1+\n",
      "0% : 500,000,000+\n",
      "0% : 1,000,000,000+\n",
      "0% : 0+\n",
      "0% : 0\n"
     ]
    }
   ],
   "source": [
    "display_table(googleplay_free, 5)"
   ]
  },
  {
   "cell_type": "code",
   "execution_count": 101,
   "metadata": {},
   "outputs": [
    {
     "name": "stdout",
     "output_type": "stream",
     "text": [
      "38590581 : COMMUNICATION\n",
      "24727872 : VIDEO_PLAYERS\n",
      "23253652 : SOCIAL\n",
      "17840110 : PHOTOGRAPHY\n",
      "16787331 : PRODUCTIVITY\n",
      "15544015 : GAME\n",
      "13984078 : TRAVEL_AND_LOCAL\n",
      "11640706 : ENTERTAINMENT\n",
      "10830252 : TOOLS\n",
      "9549178 : NEWS_AND_MAGAZINES\n",
      "8814200 : BOOKS_AND_REFERENCE\n",
      "7036877 : SHOPPING\n",
      "5201483 : PERSONALIZATION\n",
      "5145550 : WEATHER\n",
      "4188822 : HEALTH_AND_FITNESS\n",
      "4049275 : MAPS_AND_NAVIGATION\n",
      "3695642 : FAMILY\n",
      "3650602 : SPORTS\n",
      "1986335 : ART_AND_DESIGN\n",
      "1924898 : FOOD_AND_DRINK\n",
      "1833495 : EDUCATION\n",
      "1712290 : BUSINESS\n",
      "1446158 : LIFESTYLE\n",
      "1387692 : FINANCE\n",
      "1360598 : HOUSE_AND_HOME\n",
      "854029 : DATING\n",
      "832614 : COMICS\n",
      "647318 : AUTO_AND_VEHICLES\n",
      "638504 : LIBRARIES_AND_DEMO\n",
      "542604 : PARENTING\n",
      "513152 : BEAUTY\n",
      "253542 : EVENTS\n",
      "120551 : MEDICAL\n"
     ]
    }
   ],
   "source": [
    "googleplay_category = freq_table(googleplay_free, 1)\n",
    "googleplay_install = {}\n",
    "\n",
    "# Calculate the average of installs for each category\n",
    "for category in googleplay_category:\n",
    "    total = 0\n",
    "    len_category = 0\n",
    "    for app in googleplay_free:\n",
    "        category_app = app[1]\n",
    "        if category_app == category:\n",
    "            num_install = app[5]\n",
    "            num_install = float(num_install.replace('+', '').replace(',', ''))\n",
    "            total = total + num_install\n",
    "            len_category = len_category + 1\n",
    "    googleplay_install[category] = round(total / len_category)\n",
    "\n",
    "# Sort the average of installs in descending order\n",
    "googleplay_list = []\n",
    "for category in googleplay_install:\n",
    "    googleplay_list.append((googleplay_install[category], category))\n",
    "googleplay_list = sorted(googleplay_list, reverse=True)\n",
    "\n",
    "for app in googleplay_list:\n",
    "    print(app[0], ':', app[1])"
   ]
  },
  {
   "cell_type": "markdown",
   "metadata": {},
   "source": [
    "Communication is the most popular category for free apps in Google Play which target English speakers followed by video players, social, photography, productivity etc. We need to remove outliers that skew our result by removing apps that have the number of installs greater than 1.5 IQR."
   ]
  },
  {
   "cell_type": "code",
   "execution_count": 93,
   "metadata": {},
   "outputs": [
    {
     "data": {
      "text/plain": [
       "999000.0"
      ]
     },
     "execution_count": 93,
     "metadata": {},
     "output_type": "execute_result"
    }
   ],
   "source": [
    "googleplay_installs = [float(app[5].replace('+', '').replace(',', '')) for app in googleplay_free]\n",
    "googleplay_r25, googleplay_r75 = np.percentile(googleplay_installs, [25, 75])\n",
    "googleplay_iqr = googleplay_r75 -  googleplay_r25\n",
    "googleplay_iqr"
   ]
  },
  {
   "cell_type": "markdown",
   "metadata": {},
   "source": [
    "IRQ for the number of installs in Google Play is 999,000. We're going to remove apps that have the number of installs greater than 999,000."
   ]
  },
  {
   "cell_type": "code",
   "execution_count": 103,
   "metadata": {},
   "outputs": [
    {
     "name": "stdout",
     "output_type": "stream",
     "text": [
      "186905 : EDUCATION\n",
      "149590 : WEATHER\n",
      "136645 : HOUSE_AND_HOME\n",
      "126944 : GAME\n",
      "121920 : SHOPPING\n",
      "121667 : ENTERTAINMENT\n",
      "108996 : HEALTH_AND_FITNESS\n",
      "104241 : COMICS\n",
      "97606 : BEAUTY\n",
      "94078 : FOOD_AND_DRINK\n",
      "93802 : ART_AND_DESIGN\n",
      "92908 : PHOTOGRAPHY\n",
      "90263 : DATING\n",
      "80721 : PARENTING\n",
      "80028 : BOOKS_AND_REFERENCE\n",
      "79376 : AUTO_AND_VEHICLES\n",
      "72514 : SOCIAL\n",
      "72293 : FAMILY\n",
      "71369 : LIBRARIES_AND_DEMO\n",
      "66561 : SPORTS\n",
      "65784 : PERSONALIZATION\n",
      "58808 : TRAVEL_AND_LOCAL\n",
      "56013 : FINANCE\n",
      "55261 : LIFESTYLE\n",
      "54912 : TOOLS\n",
      "53683 : PRODUCTIVITY\n",
      "50429 : VIDEO_PLAYERS\n",
      "46981 : COMMUNICATION\n",
      "43725 : MAPS_AND_NAVIGATION\n",
      "43614 : NEWS_AND_MAGAZINES\n",
      "39771 : MEDICAL\n",
      "34617 : EVENTS\n",
      "23379 : BUSINESS\n"
     ]
    }
   ],
   "source": [
    "googleplay_install_remove_outliers = {}\n",
    "\n",
    "# Calculate the average of installs for each category\n",
    "for category in googleplay_category:\n",
    "    total = 0\n",
    "    len_category = 0\n",
    "    for app in googleplay_free:\n",
    "        category_app = app[1]\n",
    "        if category_app == category:\n",
    "            num_install = app[5]\n",
    "            num_install = float(num_install.replace('+', '').replace(',', ''))\n",
    "            if num_install >= 999000:\n",
    "                continue\n",
    "            total = total + num_install\n",
    "            len_category = len_category + 1\n",
    "    googleplay_install_remove_outliers[category] = round(total / len_category)\n",
    "\n",
    "# Sort the average of installs in descending order\n",
    "googleplay_list_remove_outliers = []\n",
    "for category in googleplay_install_remove_outliers:\n",
    "    googleplay_list_remove_outliers.append((googleplay_install_remove_outliers[category], category))\n",
    "googleplay_list_remove_outliers = sorted(googleplay_list_remove_outliers, reverse=True)\n",
    "\n",
    "for app in googleplay_list_remove_outliers:\n",
    "    print(app[0], ':', app[1])"
   ]
  },
  {
   "cell_type": "markdown",
   "metadata": {},
   "source": [
    "After removing outliers, the number of installs in Google Play has changed. Education is number one followed by weather, house and home, game, shopping, etc."
   ]
  },
  {
   "cell_type": "markdown",
   "metadata": {},
   "source": [
    "## Conclusion"
   ]
  },
  {
   "cell_type": "markdown",
   "metadata": {},
   "source": [
    "| Order of Popular Genre | App Store          | Google Play        |\n",
    "| ---------------------- | ----------------- | ------------------ |\n",
    "| 1                      | Business          | Education          |\n",
    "| 2                      | Shopping          | Weather            |\n",
    "| 3                      | Health & Fitness  | House and Home     |\n",
    "| 4                      | Photo & Video     | Game               |\n",
    "| 5                      | Reference         | Shopping           |\n",
    "| 6                      | Music             | Entertainment      |\n",
    "| 7                      | Food & Drink      | Health and Fitness |\n",
    "| 8                      | Entertainment     | Comics             |\n",
    "| 9                      | Productivity      | Beauty             |\n",
    "| 10                     | Social Networking | Food and Drink     |\n",
    "\n",
    "The table above shows the top 10 genres for free English apps in App Store and Google Play. There are more Android users (74.25%) more than ios users (25.15%) in August 2020 ([statcounter](https://statcounter.com/os-market-share/mobile/)). The results from Google Play will have more power for us to make a decision because of the number of users. The number of users is important for us because our company wants to make profits from in-app adds which means more people using the app, more profits. \n",
    "\n",
    "- Education is a good option for the company.\n",
    "- Weather seems good but people tend to use it for only a few seconds which would rarely show in-app ads to users.\n",
    "- House and home and game are other good options.\n",
    "- Shopping is on the top lists for both App Store and Google Play but it would require building the whole system for shopping, not just the app.\n",
    "- Entertainment is other top lists for both App Store and Google Play which would be great to build an app in."
   ]
  }
 ],
 "metadata": {
  "kernelspec": {
   "display_name": "Python 3",
   "language": "python",
   "name": "python3"
  },
  "language_info": {
   "codemirror_mode": {
    "name": "ipython",
    "version": 3
   },
   "file_extension": ".py",
   "mimetype": "text/x-python",
   "name": "python",
   "nbconvert_exporter": "python",
   "pygments_lexer": "ipython3",
   "version": "3.7.7"
  }
 },
 "nbformat": 4,
 "nbformat_minor": 4
}
